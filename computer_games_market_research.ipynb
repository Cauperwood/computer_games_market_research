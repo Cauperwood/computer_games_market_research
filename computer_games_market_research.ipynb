{
 "cells": [
  {
   "cell_type": "markdown",
   "metadata": {},
   "source": [
    "## <a name=\"0.0\"></a>Content (clickable):\n",
    "* [0. Project description, data description, import libraries](#0.)\n",
    "* [1. (Step_1) Familiarization with the data:](#1.)\n",
    "     - [output_1:](#output_1:)\n",
    "* [2. (Step_2) Prepare data:](#Step_2)\n",
    "     - [output_2:](#output_2:)\n",
    "* [3. (Step_3) Data analysis:](#Step_3)\n",
    "     - [output_3:](#output_3:)\n",
    "* [4. (Step_4) Portrait of the user of each region:](#Step_4)\n",
    "     - [output_4:](#output_4:)\n",
    "* [5. (Step_5) Hypothesis testing:](#Step_5)\n",
    "     - [output_5:](#Common_output:)\n",
    "* [5. (Step_6) Common_output:](#Step_6)\n",
    "     - [Общий_output:](#Общий_output:)"
   ]
  },
  {
   "cell_type": "markdown",
   "metadata": {},
   "source": [
    "## Project description<a name=\"0.\"></a>\n",
    "<font size=\"2\">([to the content](#0.0))</font>"
   ]
  },
  {
   "cell_type": "markdown",
   "metadata": {},
   "source": [
    "We need to work out the principle of working with data. It does not matter whether you forecast sales for 2017 according to 2016 data or 2027 according to 2026 data.<br/><br/>\n",
    "The data set contains the abbreviation <b>ESRB (Entertainment Software Rating Board)</b> — an association that determines the age rating of computer games. <b>ESRB</b> evaluates game content and assigns it a suitable age category, for example, \"For adults\", \"For younger children\""
   ]
  },
  {
   "cell_type": "markdown",
   "metadata": {},
   "source": [
    "<br/><a name=\"0.\"></a>\n",
    "## Data description\n",
    "<font size=\"2\">([to the content](#0.0))</font>\n",
    "\n",
    "* <b>Name</b> — name of game<br/>\n",
    "* <b>Platform</b> — platform of game<br/>\n",
    "* <b>Year_of_Release</b> — year of release<br/>\n",
    "* <b>Genre</b> — genre of games<br/>\n",
    "* <b>NA_sales</b> — sales in Nord America(millions copies)<br/>\n",
    "* <b>EU_sales</b></b> — sales in Europe (millions copies)<br/>\n",
    "* <b>JP_sales</b> — sales in Japan (millions copies)<br/>\n",
    "* <b>Other_sales</b> — sales in other counties (millions copies)<br/>\n",
    "* <b>Critic_Score</b> — critics assessment (max 100)<br/>\n",
    "* <b>User_Score</b> — users assessment (max 10)<br/>\n",
    "* <b>Rating</b> — rating from the organization ESRB (Entertainment Software Rating Board). This association determines the rating of computer games and assigns them a suitable age category.<br/><br/>\n",
    "Data for 2016 may be incomplete.\n",
    "\n"
   ]
  },
  {
   "cell_type": "code",
   "execution_count": 1,
   "metadata": {},
   "outputs": [],
   "source": [
    "import pandas as pd\n",
    "import numpy as np\n",
    "from matplotlib import pyplot as plt\n",
    "import math\n",
    "from scipy import stats as st\n",
    "import warnings\n",
    "warnings.filterwarnings(\"ignore\")\n",
    "import math"
   ]
  },
  {
   "cell_type": "markdown",
   "metadata": {},
   "source": [
    "<br/><a name=\"1.\"></a>\n",
    "## Step 1. Familiarization with the data\n",
    "<font size=\"2\">([to the content](#0.0))</font>"
   ]
  },
  {
   "cell_type": "code",
   "execution_count": 2,
   "metadata": {},
   "outputs": [],
   "source": [
    "try:\n",
    "    df_1 = pd.read_csv('games.csv', sep=',')\n",
    "except:\n",
    "    df_1 = pd.read_csv('/datasets/games.csv', sep=',')"
   ]
  },
  {
   "cell_type": "code",
   "execution_count": 3,
   "metadata": {},
   "outputs": [],
   "source": [
    "df = df_1.copy()"
   ]
  },
  {
   "cell_type": "code",
   "execution_count": 4,
   "metadata": {},
   "outputs": [
    {
     "data": {
      "text/html": [
       "<div>\n",
       "<style scoped>\n",
       "    .dataframe tbody tr th:only-of-type {\n",
       "        vertical-align: middle;\n",
       "    }\n",
       "\n",
       "    .dataframe tbody tr th {\n",
       "        vertical-align: top;\n",
       "    }\n",
       "\n",
       "    .dataframe thead th {\n",
       "        text-align: right;\n",
       "    }\n",
       "</style>\n",
       "<table border=\"1\" class=\"dataframe\">\n",
       "  <thead>\n",
       "    <tr style=\"text-align: right;\">\n",
       "      <th></th>\n",
       "      <th>Name</th>\n",
       "      <th>Platform</th>\n",
       "      <th>Year_of_Release</th>\n",
       "      <th>Genre</th>\n",
       "      <th>NA_sales</th>\n",
       "      <th>EU_sales</th>\n",
       "      <th>JP_sales</th>\n",
       "      <th>Other_sales</th>\n",
       "      <th>Critic_Score</th>\n",
       "      <th>User_Score</th>\n",
       "      <th>Rating</th>\n",
       "    </tr>\n",
       "  </thead>\n",
       "  <tbody>\n",
       "    <tr>\n",
       "      <th>0</th>\n",
       "      <td>Wii Sports</td>\n",
       "      <td>Wii</td>\n",
       "      <td>2006.0</td>\n",
       "      <td>Sports</td>\n",
       "      <td>41.36</td>\n",
       "      <td>28.96</td>\n",
       "      <td>3.77</td>\n",
       "      <td>8.45</td>\n",
       "      <td>76.0</td>\n",
       "      <td>8</td>\n",
       "      <td>E</td>\n",
       "    </tr>\n",
       "    <tr>\n",
       "      <th>1</th>\n",
       "      <td>Super Mario Bros.</td>\n",
       "      <td>NES</td>\n",
       "      <td>1985.0</td>\n",
       "      <td>Platform</td>\n",
       "      <td>29.08</td>\n",
       "      <td>3.58</td>\n",
       "      <td>6.81</td>\n",
       "      <td>0.77</td>\n",
       "      <td>NaN</td>\n",
       "      <td>NaN</td>\n",
       "      <td>NaN</td>\n",
       "    </tr>\n",
       "    <tr>\n",
       "      <th>2</th>\n",
       "      <td>Mario Kart Wii</td>\n",
       "      <td>Wii</td>\n",
       "      <td>2008.0</td>\n",
       "      <td>Racing</td>\n",
       "      <td>15.68</td>\n",
       "      <td>12.76</td>\n",
       "      <td>3.79</td>\n",
       "      <td>3.29</td>\n",
       "      <td>82.0</td>\n",
       "      <td>8.3</td>\n",
       "      <td>E</td>\n",
       "    </tr>\n",
       "    <tr>\n",
       "      <th>3</th>\n",
       "      <td>Wii Sports Resort</td>\n",
       "      <td>Wii</td>\n",
       "      <td>2009.0</td>\n",
       "      <td>Sports</td>\n",
       "      <td>15.61</td>\n",
       "      <td>10.93</td>\n",
       "      <td>3.28</td>\n",
       "      <td>2.95</td>\n",
       "      <td>80.0</td>\n",
       "      <td>8</td>\n",
       "      <td>E</td>\n",
       "    </tr>\n",
       "    <tr>\n",
       "      <th>4</th>\n",
       "      <td>Pokemon Red/Pokemon Blue</td>\n",
       "      <td>GB</td>\n",
       "      <td>1996.0</td>\n",
       "      <td>Role-Playing</td>\n",
       "      <td>11.27</td>\n",
       "      <td>8.89</td>\n",
       "      <td>10.22</td>\n",
       "      <td>1.00</td>\n",
       "      <td>NaN</td>\n",
       "      <td>NaN</td>\n",
       "      <td>NaN</td>\n",
       "    </tr>\n",
       "  </tbody>\n",
       "</table>\n",
       "</div>"
      ],
      "text/plain": [
       "                       Name Platform  Year_of_Release         Genre  NA_sales  \\\n",
       "0                Wii Sports      Wii           2006.0        Sports     41.36   \n",
       "1         Super Mario Bros.      NES           1985.0      Platform     29.08   \n",
       "2            Mario Kart Wii      Wii           2008.0        Racing     15.68   \n",
       "3         Wii Sports Resort      Wii           2009.0        Sports     15.61   \n",
       "4  Pokemon Red/Pokemon Blue       GB           1996.0  Role-Playing     11.27   \n",
       "\n",
       "   EU_sales  JP_sales  Other_sales  Critic_Score User_Score Rating  \n",
       "0     28.96      3.77         8.45          76.0          8      E  \n",
       "1      3.58      6.81         0.77           NaN        NaN    NaN  \n",
       "2     12.76      3.79         3.29          82.0        8.3      E  \n",
       "3     10.93      3.28         2.95          80.0          8      E  \n",
       "4      8.89     10.22         1.00           NaN        NaN    NaN  "
      ]
     },
     "execution_count": 4,
     "metadata": {},
     "output_type": "execute_result"
    }
   ],
   "source": [
    "df.head()"
   ]
  },
  {
   "cell_type": "code",
   "execution_count": 5,
   "metadata": {},
   "outputs": [
    {
     "name": "stdout",
     "output_type": "stream",
     "text": [
      "<class 'pandas.core.frame.DataFrame'>\n",
      "RangeIndex: 16715 entries, 0 to 16714\n",
      "Data columns (total 11 columns):\n",
      " #   Column           Non-Null Count  Dtype  \n",
      "---  ------           --------------  -----  \n",
      " 0   Name             16713 non-null  object \n",
      " 1   Platform         16715 non-null  object \n",
      " 2   Year_of_Release  16446 non-null  float64\n",
      " 3   Genre            16713 non-null  object \n",
      " 4   NA_sales         16715 non-null  float64\n",
      " 5   EU_sales         16715 non-null  float64\n",
      " 6   JP_sales         16715 non-null  float64\n",
      " 7   Other_sales      16715 non-null  float64\n",
      " 8   Critic_Score     8137 non-null   float64\n",
      " 9   User_Score       10014 non-null  object \n",
      " 10  Rating           9949 non-null   object \n",
      "dtypes: float64(6), object(5)\n",
      "memory usage: 1.4+ MB\n"
     ]
    }
   ],
   "source": [
    "df.info()"
   ]
  },
  {
   "cell_type": "code",
   "execution_count": 6,
   "metadata": {},
   "outputs": [
    {
     "data": {
      "text/html": [
       "<div>\n",
       "<style scoped>\n",
       "    .dataframe tbody tr th:only-of-type {\n",
       "        vertical-align: middle;\n",
       "    }\n",
       "\n",
       "    .dataframe tbody tr th {\n",
       "        vertical-align: top;\n",
       "    }\n",
       "\n",
       "    .dataframe thead th {\n",
       "        text-align: right;\n",
       "    }\n",
       "</style>\n",
       "<table border=\"1\" class=\"dataframe\">\n",
       "  <thead>\n",
       "    <tr style=\"text-align: right;\">\n",
       "      <th></th>\n",
       "      <th>Year_of_Release</th>\n",
       "      <th>NA_sales</th>\n",
       "      <th>EU_sales</th>\n",
       "      <th>JP_sales</th>\n",
       "      <th>Other_sales</th>\n",
       "      <th>Critic_Score</th>\n",
       "    </tr>\n",
       "  </thead>\n",
       "  <tbody>\n",
       "    <tr>\n",
       "      <th>count</th>\n",
       "      <td>16446.000000</td>\n",
       "      <td>16715.000000</td>\n",
       "      <td>16715.000000</td>\n",
       "      <td>16715.000000</td>\n",
       "      <td>16715.000000</td>\n",
       "      <td>8137.000000</td>\n",
       "    </tr>\n",
       "    <tr>\n",
       "      <th>mean</th>\n",
       "      <td>2006.484616</td>\n",
       "      <td>0.263377</td>\n",
       "      <td>0.145060</td>\n",
       "      <td>0.077617</td>\n",
       "      <td>0.047342</td>\n",
       "      <td>68.967679</td>\n",
       "    </tr>\n",
       "    <tr>\n",
       "      <th>std</th>\n",
       "      <td>5.877050</td>\n",
       "      <td>0.813604</td>\n",
       "      <td>0.503339</td>\n",
       "      <td>0.308853</td>\n",
       "      <td>0.186731</td>\n",
       "      <td>13.938165</td>\n",
       "    </tr>\n",
       "    <tr>\n",
       "      <th>min</th>\n",
       "      <td>1980.000000</td>\n",
       "      <td>0.000000</td>\n",
       "      <td>0.000000</td>\n",
       "      <td>0.000000</td>\n",
       "      <td>0.000000</td>\n",
       "      <td>13.000000</td>\n",
       "    </tr>\n",
       "    <tr>\n",
       "      <th>25%</th>\n",
       "      <td>2003.000000</td>\n",
       "      <td>0.000000</td>\n",
       "      <td>0.000000</td>\n",
       "      <td>0.000000</td>\n",
       "      <td>0.000000</td>\n",
       "      <td>60.000000</td>\n",
       "    </tr>\n",
       "    <tr>\n",
       "      <th>50%</th>\n",
       "      <td>2007.000000</td>\n",
       "      <td>0.080000</td>\n",
       "      <td>0.020000</td>\n",
       "      <td>0.000000</td>\n",
       "      <td>0.010000</td>\n",
       "      <td>71.000000</td>\n",
       "    </tr>\n",
       "    <tr>\n",
       "      <th>75%</th>\n",
       "      <td>2010.000000</td>\n",
       "      <td>0.240000</td>\n",
       "      <td>0.110000</td>\n",
       "      <td>0.040000</td>\n",
       "      <td>0.030000</td>\n",
       "      <td>79.000000</td>\n",
       "    </tr>\n",
       "    <tr>\n",
       "      <th>max</th>\n",
       "      <td>2016.000000</td>\n",
       "      <td>41.360000</td>\n",
       "      <td>28.960000</td>\n",
       "      <td>10.220000</td>\n",
       "      <td>10.570000</td>\n",
       "      <td>98.000000</td>\n",
       "    </tr>\n",
       "  </tbody>\n",
       "</table>\n",
       "</div>"
      ],
      "text/plain": [
       "       Year_of_Release      NA_sales      EU_sales      JP_sales  \\\n",
       "count     16446.000000  16715.000000  16715.000000  16715.000000   \n",
       "mean       2006.484616      0.263377      0.145060      0.077617   \n",
       "std           5.877050      0.813604      0.503339      0.308853   \n",
       "min        1980.000000      0.000000      0.000000      0.000000   \n",
       "25%        2003.000000      0.000000      0.000000      0.000000   \n",
       "50%        2007.000000      0.080000      0.020000      0.000000   \n",
       "75%        2010.000000      0.240000      0.110000      0.040000   \n",
       "max        2016.000000     41.360000     28.960000     10.220000   \n",
       "\n",
       "        Other_sales  Critic_Score  \n",
       "count  16715.000000   8137.000000  \n",
       "mean       0.047342     68.967679  \n",
       "std        0.186731     13.938165  \n",
       "min        0.000000     13.000000  \n",
       "25%        0.000000     60.000000  \n",
       "50%        0.010000     71.000000  \n",
       "75%        0.030000     79.000000  \n",
       "max       10.570000     98.000000  "
      ]
     },
     "execution_count": 6,
     "metadata": {},
     "output_type": "execute_result"
    }
   ],
   "source": [
    "df.describe()"
   ]
  },
  {
   "cell_type": "markdown",
   "metadata": {},
   "source": [
    "### Вывод_1:"
   ]
  },
  {
   "cell_type": "markdown",
   "metadata": {},
   "source": [
    "When you first look at the data, you can say the following:\n",
    "* 2 passes in the column with the name of the games\n",
    "* the columns Critic_Score, User_Score, Rating, Year_of_Release have a large number of omissions\n",
    "* data in the User_Score column of the object type, although they have a numeric format\n",
    "* Year_of_Release has a float data type, in this case it is logical to change to int\n",
    "* 75% of the games were released "
   ]
  },
  {
   "cell_type": "markdown",
   "metadata": {},
   "source": [
    "## Step_2 <a name=\"Step_2\"></a>\n",
    "<font size=\"2\">([to the content](#0.0))</font>\n",
    "\n",
    "Data preparation:\n",
    "* Prepare the data Replace the column names (lower case);\n",
    "* Convert data to the desired types. Describe in which columns the data type was replaced and why;\n",
    "* Process the gaps if necessary: Explain why you filled in the gaps in a certain way or why you did not do it;\n",
    "* Describe the reasons that could lead to omissions;\n",
    "* Pay attention to the abbreviation 'tbd' in the rating columns. Separately analyze this value and describe how to process it;\n",
    "* Calculate the total sales in all regions and record them in a separate column."
   ]
  },
  {
   "cell_type": "code",
   "execution_count": 7,
   "metadata": {},
   "outputs": [
    {
     "data": {
      "text/plain": [
       "Index(['name', 'platform', 'year_of_release', 'genre', 'na_sales', 'eu_sales',\n",
       "       'jp_sales', 'other_sales', 'critic_score', 'user_score', 'rating'],\n",
       "      dtype='object')"
      ]
     },
     "execution_count": 7,
     "metadata": {},
     "output_type": "execute_result"
    }
   ],
   "source": [
    "df.columns = list(map(lambda x: x.lower(), list(df.columns)))\n",
    "df.columns"
   ]
  },
  {
   "cell_type": "markdown",
   "metadata": {},
   "source": [
    "I will delete the lines with omissions in the name of the games, there are only 2 of them, they can be sacrificed"
   ]
  },
  {
   "cell_type": "code",
   "execution_count": 8,
   "metadata": {},
   "outputs": [],
   "source": [
    "df.drop(df.loc[df['name'].isna() == True].index, inplace = True)"
   ]
  },
  {
   "cell_type": "markdown",
   "metadata": {},
   "source": [
    "I will replace the type with an integer in the year_of_release column"
   ]
  },
  {
   "cell_type": "code",
   "execution_count": 9,
   "metadata": {},
   "outputs": [
    {
     "data": {
      "text/plain": [
       "array(['8', nan, '8.3', '8.5', '6.6', '8.4', '8.6', '7.7', '6.3', '7.4',\n",
       "       '8.2', '9', '7.9', '8.1', '8.7', '7.1', '3.4', '5.3', '4.8', '3.2',\n",
       "       '8.9', '6.4', '7.8', '7.5', '2.6', '7.2', '9.2', '7', '7.3', '4.3',\n",
       "       '7.6', '5.7', '5', '9.1', '6.5', 'tbd', '8.8', '6.9', '9.4', '6.8',\n",
       "       '6.1', '6.7', '5.4', '4', '4.9', '4.5', '9.3', '6.2', '4.2', '6',\n",
       "       '3.7', '4.1', '5.8', '5.6', '5.5', '4.4', '4.6', '5.9', '3.9',\n",
       "       '3.1', '2.9', '5.2', '3.3', '4.7', '5.1', '3.5', '2.5', '1.9', '3',\n",
       "       '2.7', '2.2', '2', '9.5', '2.1', '3.6', '2.8', '1.8', '3.8', '0',\n",
       "       '1.6', '9.6', '2.4', '1.7', '1.1', '0.3', '1.5', '0.7', '1.2',\n",
       "       '2.3', '0.5', '1.3', '0.2', '0.6', '1.4', '0.9', '1', '9.7'],\n",
       "      dtype=object)"
      ]
     },
     "execution_count": 9,
     "metadata": {},
     "output_type": "execute_result"
    }
   ],
   "source": [
    "df['user_score'].unique()"
   ]
  },
  {
   "cell_type": "markdown",
   "metadata": {},
   "source": [
    "next, it would be logical to replace the data type of the user_score column with float, but there is one catch - the tbd value occurs in the user_score column, I think in translation it is till before define - not yet defined. Since I need to work with the data from this column for now, I will replace it with NaN. Next, I will bring it to the float type."
   ]
  },
  {
   "cell_type": "code",
   "execution_count": 10,
   "metadata": {},
   "outputs": [],
   "source": [
    "df['user_score'] = pd.to_numeric(df['user_score'], errors = 'coerce')"
   ]
  },
  {
   "cell_type": "code",
   "execution_count": 11,
   "metadata": {},
   "outputs": [
    {
     "data": {
      "text/plain": [
       "array(['E', nan, 'M', 'T', 'E10+', 'K-A', 'AO', 'EC', 'RP'], dtype=object)"
      ]
     },
     "execution_count": 11,
     "metadata": {},
     "output_type": "execute_result"
    }
   ],
   "source": [
    "df['rating'].unique()"
   ]
  },
  {
   "cell_type": "code",
   "execution_count": 12,
   "metadata": {},
   "outputs": [],
   "source": [
    "df['rating'] = df['rating'].fillna('undefined')"
   ]
  },
  {
   "cell_type": "markdown",
   "metadata": {},
   "source": [
    "I will create a column with total sales"
   ]
  },
  {
   "cell_type": "code",
   "execution_count": 13,
   "metadata": {},
   "outputs": [],
   "source": [
    "df['common_sales'] = df['na_sales'] + df['eu_sales'] + df['jp_sales'] + df['other_sales']"
   ]
  },
  {
   "cell_type": "markdown",
   "metadata": {},
   "source": [
    "next, I will explore the possibility of filling in the gaps in critic_score and user_score, based on sales. I will check if there is a relationship between sales and ratings"
   ]
  },
  {
   "cell_type": "code",
   "execution_count": 14,
   "metadata": {},
   "outputs": [
    {
     "name": "stdout",
     "output_type": "stream",
     "text": [
      "[76. nan 82. 80. 89. 58. 87. 91. 61. 97. 95. 77. 88. 83. 94. 93. 85. 86.\n",
      " 98. 96. 90. 84. 73. 74. 78. 92. 71. 72. 68. 62. 49. 67. 81. 66. 56. 79.\n",
      " 70. 59. 64. 75. 60. 63. 69. 50. 25. 42. 44. 55. 48. 57. 29. 47. 65. 54.\n",
      " 20. 53. 37. 38. 33. 52. 30. 32. 43. 45. 51. 40. 46. 39. 34. 35. 41. 36.\n",
      " 28. 31. 27. 26. 19. 23. 24. 21. 17. 22. 13.]\n",
      "[8.  nan 8.3 8.5 6.6 8.4 8.6 7.7 6.3 7.4 8.2 9.  7.9 8.1 8.7 7.1 3.4 5.3\n",
      " 4.8 3.2 8.9 6.4 7.8 7.5 2.6 7.2 9.2 7.  7.3 4.3 7.6 5.7 5.  9.1 6.5 8.8\n",
      " 6.9 9.4 6.8 6.1 6.7 5.4 4.  4.9 4.5 9.3 6.2 4.2 6.  3.7 4.1 5.8 5.6 5.5\n",
      " 4.4 4.6 5.9 3.9 3.1 2.9 5.2 3.3 4.7 5.1 3.5 2.5 1.9 3.  2.7 2.2 2.  9.5\n",
      " 2.1 3.6 2.8 1.8 3.8 0.  1.6 9.6 2.4 1.7 1.1 0.3 1.5 0.7 1.2 2.3 0.5 1.3\n",
      " 0.2 0.6 1.4 0.9 1.  9.7]\n"
     ]
    }
   ],
   "source": [
    "print(df['critic_score'].unique())\n",
    "print(df['user_score'].unique())"
   ]
  },
  {
   "cell_type": "code",
   "execution_count": 15,
   "metadata": {},
   "outputs": [
    {
     "data": {
      "text/plain": [
       "count    16713.000000\n",
       "mean         0.533315\n",
       "std          1.548282\n",
       "min          0.000000\n",
       "25%          0.060000\n",
       "50%          0.170000\n",
       "75%          0.470000\n",
       "max         82.540000\n",
       "Name: common_sales, dtype: float64"
      ]
     },
     "execution_count": 15,
     "metadata": {},
     "output_type": "execute_result"
    }
   ],
   "source": [
    "df['common_sales'].describe()"
   ]
  },
  {
   "cell_type": "markdown",
   "metadata": {},
   "source": [
    "75% of sales values are located from 0 to 0.47. I'll build graphs, look at the distributions"
   ]
  },
  {
   "cell_type": "code",
   "execution_count": 16,
   "metadata": {
    "scrolled": false
   },
   "outputs": [
    {
     "data": {
      "text/plain": [
       "array([[<matplotlib.axes._subplots.AxesSubplot object at 0x7fdeafece590>]],\n",
       "      dtype=object)"
      ]
     },
     "execution_count": 16,
     "metadata": {},
     "output_type": "execute_result"
    },
    {
     "data": {
      "image/png": "[encoded data removed]",
      "text/plain": [
       "<Figure size 432x288 with 1 Axes>"
      ]
     },
     "metadata": {
      "needs_background": "light"
     },
     "output_type": "display_data"
    },
    {
     "data": {
      "image/png": "[encoded data removed]",
      "text/plain": [
       "<Figure size 432x288 with 1 Axes>"
      ]
     },
     "metadata": {
      "needs_background": "light"
     },
     "output_type": "display_data"
    },
    {
     "data": {
      "image/png": "[encoded data removed]",
      "text/plain": [
       "<Figure size 432x288 with 1 Axes>"
      ]
     },
     "metadata": {
      "needs_background": "light"
     },
     "output_type": "display_data"
    }
   ],
   "source": [
    "df.hist(column='user_score', bins=25)\n",
    "df.hist(column='critic_score', bins=15)\n",
    "df.hist(column = 'common_sales',bins=150, range = (0, 1))"
   ]
  },
  {
   "cell_type": "markdown",
   "metadata": {},
   "source": [
    "I'll check the data relationships"
   ]
  },
  {
   "cell_type": "code",
   "execution_count": 17,
   "metadata": {},
   "outputs": [
    {
     "data": {
      "image/png": "[encoded data removed]",
      "text/plain": [
       "<Figure size 432x288 with 1 Axes>"
      ]
     },
     "metadata": {
      "needs_background": "light"
     },
     "output_type": "display_data"
    }
   ],
   "source": [
    "df.plot(x='common_sales', y='user_score', kind='scatter', grid=True, alpha=0.5)\n",
    "plt.title('dependence of global sales on user ratings')\n",
    "plt.xlabel('common_sales')\n",
    "plt.ylabel('user_score')\n",
    "plt.show()"
   ]
  },
  {
   "cell_type": "code",
   "execution_count": 18,
   "metadata": {},
   "outputs": [
    {
     "ename": "SyntaxError",
     "evalue": "invalid syntax (<ipython-input-18-ccf5a3218e7c>, line 2)",
     "output_type": "error",
     "traceback": [
      "\u001b[0;36m  File \u001b[0;32m\"<ipython-input-18-ccf5a3218e7c>\"\u001b[0;36m, line \u001b[0;32m2\u001b[0m\n\u001b[0;31m    plt.title('dependence of global sales on critics' ratings')\u001b[0m\n\u001b[0m                                                            ^\u001b[0m\n\u001b[0;31mSyntaxError\u001b[0m\u001b[0;31m:\u001b[0m invalid syntax\n"
     ]
    }
   ],
   "source": [
    "df.plot(x='common_sales', y='critic_score', kind='scatter', grid=True, alpha=0.5)\n",
    "plt.title('dependence of global sales on critics' ratings')\n",
    "plt.xlabel('common_sales')\n",
    "plt.ylabel('critic_score')\n",
    "plt.show()"
   ]
  },
  {
   "cell_type": "code",
   "execution_count": null,
   "metadata": {},
   "outputs": [],
   "source": [
    "df.plot(x='user_score', y='critic_score', kind='scatter', grid=True, alpha=0.5)\n",
    "plt.title('dependence of the user rating on the critics' rating')\n",
    "plt.xlabel('user_score')\n",
    "plt.ylabel('critic_score')\n",
    "plt.show()"
   ]
  },
  {
   "cell_type": "code",
   "execution_count": null,
   "metadata": {},
   "outputs": [],
   "source": [
    "df['user_score'].corr(df['critic_score'])"
   ]
  },
  {
   "cell_type": "code",
   "execution_count": null,
   "metadata": {},
   "outputs": [],
   "source": [
    "df['common_sales'].corr(df['critic_score'])"
   ]
  },
  {
   "cell_type": "code",
   "execution_count": null,
   "metadata": {},
   "outputs": [],
   "source": [
    "df['user_score'].corr(df['common_sales'])"
   ]
  },
  {
   "cell_type": "markdown",
   "metadata": {},
   "source": [
    "There are a lot of gaps in the ratings, and the relationship of global sales from them is small enough to focus on it to fill in the gaps in the ratings values, so I will leave the gaps as they are."
   ]
  },
  {
   "cell_type": "markdown",
   "metadata": {},
   "source": [
    "### output_2:"
   ]
  },
  {
   "cell_type": "markdown",
   "metadata": {},
   "source": [
    "- Column headers are reduced to lowercase; \n",
    "- Deleted 2 lines with missing values in the name of the games; \n",
    "- Processed the tbd value in the user_score clone; \n",
    "- I remembered the data types in the column with the year of release on int, in the columns with ratings on float; \n",
    "- There are a large number of gaps in the columns with ratings data, their processing is not possible with the available data."
   ]
  },
  {
   "cell_type": "markdown",
   "metadata": {},
   "source": [
    "### Step_3 <a name=\"Step_3\"></a>\n",
    "\n",
    "<font size=\"2\">([to the content](#0.0))</font>\n",
    "\n",
    "Conduct a research analysis of the data:"
   ]
  },
  {
   "cell_type": "markdown",
   "metadata": {},
   "source": [
    "- Look at how many games were released in different years. \n",
    "\n",
    "- Are the data for all periods important? \n",
    "\n",
    "- Look at how sales have changed across platforms. \n",
    "\n",
    "- Select the platforms with the highest total sales and build a distribution by year. \n",
    "\n",
    "- For what characteristic period of time do new platforms appear and old ones disappear? \n",
    "\n",
    "- Take the data for the relevant current period. \n",
    "\n",
    "- Determine the current period yourself as a result of the study of previous questions. \n",
    "\n",
    "- The main factor is that these data will help to build a forecast for 2017. \n",
    "\n",
    "- Do not take into account data for previous years in your work. \n",
    "\n",
    "- Which platforms are leading in sales, are they growing or falling? \n",
    "\n",
    "- Select several potentially profitable platforms. \n",
    "\n",
    "- Build a \"box with a mustache\" chart on global game sales by platform. \n",
    "\n",
    "- Describe the result. \n",
    "\n",
    "- See how the reviews of users and critics affect sales within one popular platform. \n",
    "\n",
    "- Build a scatter plot and calculate the correlation between reviews, etc."
   ]
  },
  {
   "cell_type": "code",
   "execution_count": null,
   "metadata": {},
   "outputs": [],
   "source": [
    "df_year_count = df.pivot_table(values = 'name', index = 'year_of_release', aggfunc = 'count')\n",
    "df_year_count = df_year_count.reset_index()\n",
    "df_year_count.columns = ['year_of_release', 'count_games']\n",
    "df_year_count.plot(x='count_games', y='year_of_release', kind='scatter', grid=True, alpha=0.5)\n",
    "plt.title('years of realise')\n",
    "plt.xlabel('amount of games')\n",
    "plt.ylabel('years')\n",
    "plt.show()"
   ]
  },
  {
   "cell_type": "markdown",
   "metadata": {},
   "source": [
    "As can be seen from the graph, until 1995, less than 200 games were released per year, for an adequate assessment of the forecast for the present, I will take data from 2001, since this year the number of games produced has become more than 400. But at the same time, for the period from 2010 to 2015, many times fewer games are released annually, we can assume this is due to the development of mobile technologies."
   ]
  },
  {
   "cell_type": "markdown",
   "metadata": {},
   "source": [
    "Select the platforms with the highest total sales and build a distribution by year."
   ]
  },
  {
   "cell_type": "code",
   "execution_count": null,
   "metadata": {},
   "outputs": [],
   "source": [
    "sum_sales_platforms = df.pivot_table(values = 'common_sales', index = 'platform', aggfunc = 'sum')\n",
    "sum_sales_platforms = sum_sales_platforms.reset_index()\n",
    "sum_sales_platforms.columns = ['platform', 'sum_sales']\n",
    "sum_sales_platforms"
   ]
  },
  {
   "cell_type": "code",
   "execution_count": null,
   "metadata": {},
   "outputs": [],
   "source": [
    "sum_sales_platforms.plot(x='platform', y='sum_sales', kind='bar', grid=True, alpha=0.5, figsize = (18,9))\n",
    "plt.title('common platform sales')\n",
    "plt.xlabel('sum_sales')\n",
    "plt.ylabel('platform')\n",
    "plt.show()"
   ]
  },
  {
   "cell_type": "markdown",
   "metadata": {},
   "source": [
    "as can be seen from the graph, there are 6 platforms, the total sales of which significantly exceed the sales of other platforms. I will make a threshold value of 400 and build a distribution by year for platforms with sales exceeding the threshold value."
   ]
  },
  {
   "cell_type": "code",
   "execution_count": null,
   "metadata": {},
   "outputs": [],
   "source": [
    "success_platforms = list(sum_sales_platforms.query('sum_sales > 400')['platform'])\n",
    "for i in success_platforms:\n",
    "    df_sales_plat_years = df.loc[df['platform'] == i].pivot_table(values = 'common_sales', index = 'year_of_release', aggfunc = 'sum').reset_index()\n",
    "    df_sales_plat_years.plot(x='year_of_release', y='common_sales', kind='bar', grid=True, alpha=0.5, figsize = (5,5))\n",
    "    plt.title(f'distribution of platform sales {i} by year')\n",
    "    plt.xlabel('sales')\n",
    "    plt.ylabel('year')\n",
    "    plt.show()\n",
    "    \n",
    "    "
   ]
  },
  {
   "cell_type": "markdown",
   "metadata": {},
   "source": [
    "as you can see, the distribution of sales by year for platforms has a pronounced growth, peak and drop in sales."
   ]
  },
  {
   "cell_type": "code",
   "execution_count": null,
   "metadata": {},
   "outputs": [],
   "source": [
    "df.plot(x='platform', y='common_sales', kind='scatter', grid=True, alpha=0.5, figsize = (18,9))\n",
    "plt.title('platform sales')\n",
    "plt.xlabel('platform')\n",
    "plt.ylabel('common_sales')\n",
    "plt.show()"
   ]
  },
  {
   "cell_type": "code",
   "execution_count": null,
   "metadata": {},
   "outputs": [],
   "source": [
    "df.plot(x='platform', y='year_of_release', kind='scatter', grid=True, alpha=0.5, figsize = (18,9))\n",
    "plt.title('release of games by platforms by year')\n",
    "plt.xlabel('platform')\n",
    "plt.ylabel('year_of_release')\n",
    "plt.show()"
   ]
  },
  {
   "cell_type": "markdown",
   "metadata": {},
   "source": [
    "As you can see from the graph, platforms do not live forever, I will calculate their average life span. It is also interesting to look at emissions."
   ]
  },
  {
   "cell_type": "code",
   "execution_count": null,
   "metadata": {},
   "outputs": [],
   "source": [
    "df.loc[(df['platform'] == 'DS') & (df['year_of_release'] < 2000)]"
   ]
  },
  {
   "cell_type": "code",
   "execution_count": null,
   "metadata": {},
   "outputs": [],
   "source": [
    "df.loc[(df['platform'] == 'Wii') & (df['year_of_release'] < 2005)]"
   ]
  },
  {
   "cell_type": "code",
   "execution_count": null,
   "metadata": {},
   "outputs": [],
   "source": [
    "df.loc[(df['platform'] == '3DS') & (df['year_of_release'] < 2005)]"
   ]
  },
  {
   "cell_type": "code",
   "execution_count": null,
   "metadata": {},
   "outputs": [],
   "source": [
    "df.loc[(df['platform'] == 'PC') & (df['year_of_release'] < 1990)]"
   ]
  },
  {
   "cell_type": "code",
   "execution_count": null,
   "metadata": {},
   "outputs": [],
   "source": [
    "df.loc[(df['platform'] == '2600') & (df['year_of_release'] > 1990)]"
   ]
  },
  {
   "cell_type": "code",
   "execution_count": null,
   "metadata": {},
   "outputs": [],
   "source": [
    "df.loc[(df['platform'] == 'PSV') & (df['year_of_release'] < 2005)]"
   ]
  },
  {
   "cell_type": "code",
   "execution_count": null,
   "metadata": {},
   "outputs": [],
   "source": [
    "platforms = list(df['platform'].unique())\n",
    "periods_of_platforms = []\n",
    "for i in platforms:\n",
    "    last = df['year_of_release'].loc[df['platform'] == i].max()\n",
    "    first = df['year_of_release'].loc[df['platform'] == i].min()\n",
    "    periods_of_platforms.append(last-first)\n",
    "print(f'the average life expectancy of gaming platforms: {np.mean(periods_of_platforms)} years; median:{np.median(periods_of_platforms)} years')\n",
    "    "
   ]
  },
  {
   "cell_type": "code",
   "execution_count": null,
   "metadata": {},
   "outputs": [],
   "source": [
    "periods_of_platforms = []\n",
    "for i in success_platforms:\n",
    "    last = df['year_of_release'].loc[df['platform'] == i].max()\n",
    "    first = df['year_of_release'].loc[df['platform'] == i].min()\n",
    "    periods_of_platforms.append(last-first)\n",
    "print(f'average life expectancy of successful gaming platforms: {np.mean(periods_of_platforms)} years; median: {np.median(periods_of_platforms)} years')\n",
    "    "
   ]
  },
  {
   "cell_type": "markdown",
   "metadata": {},
   "source": [
    "According to calculations, gaming platforms live about 6-7 years, but successful platforms live 3-5 years longer"
   ]
  },
  {
   "cell_type": "markdown",
   "metadata": {},
   "source": [
    "So, next, I will use the data for the last 3 (the average between all and successful platforms) years to make a forecast for 2017."
   ]
  },
  {
   "cell_type": "code",
   "execution_count": null,
   "metadata": {},
   "outputs": [],
   "source": [
    "df_last_8 = df.loc[(df['year_of_release'] >= 2013) & (df['year_of_release'] < 2016)]\n",
    "df_last_8.info()"
   ]
  },
  {
   "cell_type": "code",
   "execution_count": null,
   "metadata": {},
   "outputs": [],
   "source": [
    "df_last_8.plot(x='platform', y='common_sales', kind='scatter', grid=True, alpha=0.5, figsize = (18,9))\n",
    "plt.title('sales of platform')\n",
    "plt.xlabel('platform')\n",
    "plt.ylabel('common_sales')\n",
    "plt.show()"
   ]
  },
  {
   "cell_type": "code",
   "execution_count": null,
   "metadata": {},
   "outputs": [],
   "source": [
    "leader_platforms = df_last_8['platform'].loc[df_last_8['common_sales'] > 10].unique()\n",
    "print(f'The graph shows that the following platforms have been the leaders in sales over the past  years {leader_platforms}')"
   ]
  },
  {
   "cell_type": "code",
   "execution_count": null,
   "metadata": {},
   "outputs": [],
   "source": [
    "#success_platforms_last_8_years = list(leader_platforms)\n",
    "platforms_last_8_years = df_last_8['platform'].unique()\n",
    "for i in platforms_last_8_years:\n",
    "    df_sales_plat_years = df_last_8.loc[(df['platform'] == i) & (df['year_of_release'] >= 2013)].pivot_table(values = 'common_sales', index = 'year_of_release', aggfunc = 'sum').reset_index()\n",
    "    df_sales_plat_years.plot(x='year_of_release', y='common_sales', kind='bar', grid=True, alpha=0.5, figsize = (5,5))\n",
    "    plt.title(f'distribution of platform sales {i} by year')\n",
    "    plt.xlabel('sales')\n",
    "    plt.ylabel('year')\n",
    "    plt.show()"
   ]
  },
  {
   "cell_type": "markdown",
   "metadata": {},
   "source": [
    "the charts show that sales on all platforms except PS4 are falling"
   ]
  },
  {
   "cell_type": "code",
   "execution_count": null,
   "metadata": {},
   "outputs": [],
   "source": [
    "#platforms_last_10_years = list(df_last_10['platform'].unique())\n",
    "success_platforms_last_8_years = list(leader_platforms)\n",
    "for i in success_platforms_last_8_years:\n",
    "    #df_sales_plat_years = df_last_10.loc[df['platform'] == i].pivot_table(values = 'common_sales', index = 'year_of_release', aggfunc = 'sum').reset_index()\n",
    "    df_last_8.loc[df['platform'] == i].boxplot(column='common_sales',  by='platform', grid=True, figsize=(5,5))\n",
    "    plt.ylim([0, 3])\n",
    "    plt.title(f'global platform sales {i}')\n",
    "    plt.show()"
   ]
  },
  {
   "cell_type": "code",
   "execution_count": null,
   "metadata": {},
   "outputs": [],
   "source": [
    "df_last_8.loc[df_last_8['platform'].isin(list(platforms_last_8_years))].boxplot(\n",
    "    column='common_sales',  \n",
    "    by='platform', \n",
    "    grid=True, \n",
    "    figsize=(10,10))\n",
    "plt.ylim([0, 3])\n",
    "plt.title('global sales of popular platforms')\n",
    "plt.show()"
   ]
  },
  {
   "cell_type": "markdown",
   "metadata": {},
   "source": [
    "The median value of sales for successful platforms is in the approximate range from 0.2 to 0.35. The DS platform has the lowest sales, the PS4 has the highest, and the XOne platform also has very good sales"
   ]
  },
  {
   "cell_type": "code",
   "execution_count": null,
   "metadata": {},
   "outputs": [],
   "source": [
    "df_last_8.loc[df_last_8['platform'] == 'PS4'].plot(\n",
    "    x='common_sales', \n",
    "    y='user_score', \n",
    "    kind='scatter', \n",
    "    grid=True, \n",
    "    alpha=0.5,  \n",
    "    figsize = (12,7))\n",
    "plt.title('graph of the dependence of total sales on the user rating')\n"
   ]
  },
  {
   "cell_type": "code",
   "execution_count": null,
   "metadata": {},
   "outputs": [],
   "source": [
    "df_last_8.loc[df_last_8['platform'] == 'PS4'].info()"
   ]
  },
  {
   "cell_type": "code",
   "execution_count": null,
   "metadata": {},
   "outputs": [],
   "source": [
    "df_sales_PS4 = df_last_8.loc[(df_last_8['platform'] == 'PS4') & (df_last_8['user_score'].notna())]"
   ]
  },
  {
   "cell_type": "code",
   "execution_count": null,
   "metadata": {},
   "outputs": [],
   "source": [
    "df_sales_PS4.info()"
   ]
  },
  {
   "cell_type": "code",
   "execution_count": null,
   "metadata": {},
   "outputs": [],
   "source": [
    "df_sales_PS4.plot(x='common_sales', y='user_score', kind='scatter', grid=True, alpha=0.5, legend=i, figsize = (12,7))"
   ]
  },
  {
   "cell_type": "code",
   "execution_count": null,
   "metadata": {},
   "outputs": [],
   "source": [
    "print(df_sales_PS4['user_score'].corr(df_sales_PS4['common_sales']))"
   ]
  },
  {
   "cell_type": "markdown",
   "metadata": {},
   "source": [
    "On the most popular platform, the correlation coefficient for sales indicators and user ratings is only 0.024, which indicates a weak linear relationship between these indicators."
   ]
  },
  {
   "cell_type": "code",
   "execution_count": null,
   "metadata": {},
   "outputs": [],
   "source": [
    "print(df_sales_PS4['critic_score'].corr(df_sales_PS4['common_sales']))"
   ]
  },
  {
   "cell_type": "markdown",
   "metadata": {},
   "source": [
    "On the most popular platform, the correlation coefficient for sales indicators and the critics' rating is 0.43, which indicates an average linear relationship between these indicators"
   ]
  },
  {
   "cell_type": "code",
   "execution_count": null,
   "metadata": {},
   "outputs": [],
   "source": [
    "df_last_8.plot(x='common_sales', y='user_score', kind='scatter', grid=True, alpha=0.5, legend=i, figsize = (12,7))"
   ]
  },
  {
   "cell_type": "code",
   "execution_count": null,
   "metadata": {},
   "outputs": [],
   "source": [
    "print(df_last_8['common_sales'].corr(df_last_8['user_score']))"
   ]
  },
  {
   "cell_type": "markdown",
   "metadata": {},
   "source": [
    "on other platforms, the linear relationship between user ratings and sales is also very small"
   ]
  },
  {
   "cell_type": "code",
   "execution_count": null,
   "metadata": {},
   "outputs": [],
   "source": [
    "print(df_last_8['critic_score'].corr(df_last_8['user_score']))"
   ]
  },
  {
   "cell_type": "markdown",
   "metadata": {},
   "source": [
    "but on other platforms, the linear relationship between the critics' rating and sales is already quite significant."
   ]
  },
  {
   "cell_type": "code",
   "execution_count": null,
   "metadata": {},
   "outputs": [],
   "source": [
    "df_genres = df_last_8.pivot_table(values = 'name', index = 'genre', aggfunc = 'count').reset_index()\n",
    "df_genres.columns = ['genre', 'count']\n",
    "df_genres.plot(x='genre', y='count', kind='bar', grid=True, alpha=0.5, figsize = (9,5))\n",
    "plt.title(f'distribution of games by genre')\n",
    "plt.xlabel('genre')\n",
    "plt.ylabel('count')\n",
    "plt.show()"
   ]
  },
  {
   "cell_type": "code",
   "execution_count": null,
   "metadata": {},
   "outputs": [],
   "source": [
    "df_genres_sales = df_last_8.pivot_table(values = 'common_sales', index = 'genre', aggfunc = 'sum').reset_index()\n",
    "df_genres_sales.columns = ['genre', 'common_sales']\n",
    "df_genres_sales.plot(x='genre', y='common_sales', kind='bar', grid=True, alpha=0.5, figsize = (9,5))\n",
    "plt.title(f'distribution of sales by genre')\n",
    "plt.xlabel('genre')\n",
    "plt.ylabel('common_sales')\n",
    "plt.show()"
   ]
  },
  {
   "cell_type": "code",
   "execution_count": null,
   "metadata": {},
   "outputs": [],
   "source": [
    "df_genres_sales = df_last_8.pivot_table(values = 'common_sales', index = 'genre', aggfunc = 'median').reset_index()\n",
    "df_genres_sales.columns = ['genre', 'common_sales']\n",
    "df_genres_sales.plot(x='genre', y='common_sales', kind='bar', grid=True, alpha=0.5, figsize = (9,5))\n",
    "plt.title(f'median distribution of sales by genre')\n",
    "plt.xlabel('genre')\n",
    "plt.ylabel('common_sales')\n",
    "plt.show()"
   ]
  },
  {
   "cell_type": "markdown",
   "metadata": {},
   "source": [
    "### output_3:"
   ]
  },
  {
   "cell_type": "markdown",
   "metadata": {},
   "source": [
    "- A graph of the release of games by year has been built, which shows that less than 200 games were released per year before 1995, for an adequate assessment of the forecast for the present, I will take data starting from 2007, since this year the number of games released has become more than 400. But at the same time, for the period from 2010 to 2015, many times fewer games are released annually.\n",
    "\n",
    "- It was revealed that the average life expectancy of gaming platforms is about 8 years, for popular platforms this indicator is 5 years longer.\n",
    "\n",
    "- Sales of games from popular platforms are falling.\n",
    "\n",
    "- The relationship between sales and user ratings is weak\n",
    "\n",
    "- The relationship between sales and critics' ratings is quite strong\n",
    "\n",
    "- Popular genres have been identified: Action, Shooter and Sports \n",
    "\n",
    "- Most sales in the genre t: Shooter"
   ]
  },
  {
   "cell_type": "markdown",
   "metadata": {},
   "source": [
    "### Step_4 <a name=\"Step_4\"></a>\n",
    "<font size=\"2\">([to the content](#0.0))</font>"
   ]
  },
  {
   "cell_type": "markdown",
   "metadata": {},
   "source": [
    "Create a portrait of the user of each region:\n",
    "\n",
    "- Define for the user of each region (NA, EU, JP): \n",
    "\n",
    "- The most popular platforms (top 5). \n",
    "\n",
    "- Describe the differences in sales shares. \n",
    "\n",
    "- The most popular genres (top 5). \n",
    "\n",
    "- Explain the difference. \n",
    "\n",
    "- Does the ESRB rating affect sales in a particular region?"
   ]
  },
  {
   "cell_type": "code",
   "execution_count": null,
   "metadata": {},
   "outputs": [],
   "source": [
    "regions = {'Nord_America':'na_sales', 'Europe':'eu_sales', 'Japan':'jp_sales'}\n",
    "for i in regions:\n",
    "    j = regions[i]\n",
    "    df_region_user_platform = df_last_8.pivot_table(\n",
    "        values = j, \n",
    "        index = 'platform', \n",
    "        aggfunc = 'sum'\n",
    "    ).reset_index().sort_values(j, ascending=False)\n",
    "    df_region_user_genre = df_last_8.pivot_table(\n",
    "        values = j, \n",
    "        index = 'genre', \n",
    "        aggfunc = 'sum'\n",
    "    ).reset_index().sort_values(j, ascending=False)\n",
    "    platforms_of_region_pop = ', '.join(list(df_region_user_platform['platform'][0:5]))\n",
    "    genres_of_region_pop = ', '.join(list(df_region_user_genre['genre'][0:5]))\n",
    "    print(f'For {i}, the top five most popular platforms are as follows: {platforms_of_region_pop};')\n",
    "    print(f'For {i}, the top five most popular genres are as follows: {genres_of_region_pop};')"
   ]
  },
  {
   "cell_type": "code",
   "execution_count": null,
   "metadata": {},
   "outputs": [],
   "source": [
    "regions = {'Nord_America':'na_sales', 'Europe':'eu_sales', 'Japan':'jp_sales'}\n",
    "for i in regions:\n",
    "    j = regions[i]\n",
    "    df_region_rating = df_last_8.pivot_table(\n",
    "        values = j, \n",
    "        index = 'rating', \n",
    "        aggfunc = 'sum'\n",
    "    ).reset_index().sort_values(j, ascending=False)\n",
    "    df_region_rating.plot(\n",
    "        x='rating', \n",
    "        y=j, \n",
    "        kind='bar', \n",
    "        grid=True, \n",
    "        alpha=0.5, \n",
    "        figsize = (12,7))\n",
    "    plt.title(f'distribution of sales by ESRB rating in {i}')\n",
    "    plt.xlabel('rating ESRB')\n",
    "    plt.ylabel('common sales')\n",
    "    plt.show()"
   ]
  },
  {
   "cell_type": "markdown",
   "metadata": {},
   "source": [
    "### output_4:"
   ]
  },
  {
   "cell_type": "markdown",
   "metadata": {},
   "source": [
    "- For Nord_America, the top five most popular platforms are as follows: X360, PS3, Wii, DS, PS4;\n",
    "- For Nord_America, the top five most popular genres are as follows: Action, Shooter, Sports, Misc, Role-Playing;\n",
    "- For Europe, the top five most popular platforms are as follows: PS3, X360, Wii, PS4, PC;\n",
    "- For Europe, the top five most popular genres are as follows: Action, Shooter, Sports, Misc, Role-Playing;\n",
    "- For Japan, the top five most popular platforms are as follows: 3DS, DS, PS3, PSP, Wii;\n",
    "- For Japan, the top five most popular genres are as follows: Role-Playing, Action, Misc, Sports, Platform;\n",
    "\n",
    "- The biggest sales in North America are games with an \"E\" rating, in Europe with an \"M\" rating, but in Japan, it seems, they don't really like to assign an age rating to games, since such unrated games are sold the most here."
   ]
  },
  {
   "cell_type": "markdown",
   "metadata": {},
   "source": [
    "## Step_5 <a name=\"Step_5\"></a>\n",
    "<font size=\"2\">([to the content](#0.0))</font>"
   ]
  },
  {
   "cell_type": "markdown",
   "metadata": {},
   "source": [
    "Check the hypotheses:\n",
    "\n",
    "1. The average user ratings of the Xbox One and PC platforms are the same; \n",
    "\n",
    "2. Average user ratings of genres Action (English \"action\", action games) and Sports (English \"sports competitions\") are different. \n",
    "\n",
    "- Set the alpha threshold value yourself. \n",
    "\n",
    "\n",
    "Explain: \n",
    "- How did you formulate the null and alternative hypotheses; \n",
    "- What criteria were used to test hypotheses and why."
   ]
  },
  {
   "cell_type": "markdown",
   "metadata": {},
   "source": [
    "5.1\n",
    "- null hypothesis: The average user ratings of the Xbox One and PC platforms are the same;\n",
    "\n",
    "- alternative hypothesis: The average user ratings of the Xbox One and PC platforms are not the same"
   ]
  },
  {
   "cell_type": "code",
   "execution_count": null,
   "metadata": {},
   "outputs": [],
   "source": [
    "alpha = 0.05\n",
    "user_score_XB = df_last_8.loc[(df_last_8['platform'] == \"XOne\") & (df_last_8['user_score'] > 0)]['user_score'] \n",
    "user_score_PC = df_last_8.loc[(df_last_8['platform'] == \"PC\") & (df_last_8['user_score'] > 0)]['user_score']\n",
    "results = st.ttest_ind(user_score_XB, user_score_PC)\n",
    "print('p-value: ', results.pvalue)\n",
    "\n",
    "if results.pvalue < alpha:\n",
    "    print('We reject the null hypothesis')\n",
    "else:\n",
    "    print('It was not possible to reject the null hypothesis') "
   ]
  },
  {
   "cell_type": "code",
   "execution_count": null,
   "metadata": {},
   "outputs": [],
   "source": [
    "user_score_XB.mean()"
   ]
  },
  {
   "cell_type": "code",
   "execution_count": null,
   "metadata": {},
   "outputs": [],
   "source": [
    "user_score_PC.mean()"
   ]
  },
  {
   "cell_type": "markdown",
   "metadata": {},
   "source": [
    "In this case, it was not possible to reject the null hypothesis, which means: the average user ratings of the Xbox One and PC platforms are the same"
   ]
  },
  {
   "cell_type": "markdown",
   "metadata": {},
   "source": [
    "5.2 \n",
    "\n",
    "\n",
    "- null hypothesis: Average user ratings of the genres Action (English \"action\", action games) and Sports (English \"sports competitions\") similar;\n",
    "\n",
    "- alternative hypothesis: Average user ratings of genres Action (English \"action\", action games) and Sports (English \"sports competitions\") different"
   ]
  },
  {
   "cell_type": "code",
   "execution_count": null,
   "metadata": {},
   "outputs": [],
   "source": [
    "alpha = 0.05\n",
    "user_score_Action = df_last_8['user_score'].loc[(df_last_8['genre'] == \"Action\") & (df_last_8['user_score'] > 0)] \n",
    "user_score_Sports = df_last_8['user_score'].loc[(df_last_8['genre'] == \"Sports\") & (df_last_8['user_score'] > 0)]\n",
    "results = st.ttest_ind(user_score_Action, user_score_Sports)\n",
    "print('p-value: ', results.pvalue)\n",
    "\n",
    "if results.pvalue < alpha:\n",
    "    print('We reject the null hypothesis')\n",
    "else:\n",
    "    print('It was not possible to reject the null hypothesis') "
   ]
  },
  {
   "cell_type": "code",
   "execution_count": null,
   "metadata": {},
   "outputs": [],
   "source": [
    "print(user_score_Action.mean(), user_score_Sports.mean())"
   ]
  },
  {
   "cell_type": "markdown",
   "metadata": {},
   "source": [
    "In this case, an alternative hypothesis turned out to be true: The average user ratings of the Xbox One and PC platforms are not the same"
   ]
  },
  {
   "cell_type": "markdown",
   "metadata": {},
   "source": [
    "### output_5:"
   ]
  },
  {
   "cell_type": "markdown",
   "metadata": {},
   "source": [
    "* The null hypothesis always speaks of the equality of the studied quantities, while the alternative hypothesis speaks of their difference.\n",
    "* The threshold value alpha = 0.05 was taken as the most common value for the study."
   ]
  },
  {
   "cell_type": "markdown",
   "metadata": {},
   "source": [
    "## Step_6 <a name=\"Step_6\"></a>\n",
    "<font size=\"2\">([to the content](#0.0))</font>"
   ]
  },
  {
   "cell_type": "markdown",
   "metadata": {},
   "source": [
    "Write a general conclusion"
   ]
  },
  {
   "cell_type": "markdown",
   "metadata": {},
   "source": [
    "### Common_output:"
   ]
  },
  {
   "cell_type": "markdown",
   "metadata": {},
   "source": [
    "- the main conclusion of this study is that sales of platforms are falling and are likely to continue their decline, as they have been replaced by the mobile device market; \n",
    "- sales are more influenced by the ratings of critics than users;\n",
    "- significant differences in the popularity of platforms were revealed in Japan compared to other regions. Therefore, it is necessary to develop a separate marketing company for Japan."
   ]
  },
  {
   "cell_type": "code",
   "execution_count": null,
   "metadata": {},
   "outputs": [],
   "source": []
  }
 ],
 "metadata": {
  "ExecuteTimeLog": [
   {
    "duration": 1011,
    "start_time": "2021-11-01T20:03:19.491Z"
   },
   {
    "duration": 1735,
    "start_time": "2021-11-01T20:03:20.504Z"
   },
   {
    "duration": 690,
    "start_time": "2021-11-01T20:03:21.554Z"
   },
   {
    "duration": 684,
    "start_time": "2021-11-01T20:03:21.561Z"
   },
   {
    "duration": 678,
    "start_time": "2021-11-01T20:03:21.569Z"
   },
   {
    "duration": 675,
    "start_time": "2021-11-01T20:03:21.573Z"
   },
   {
    "duration": 672,
    "start_time": "2021-11-01T20:03:21.577Z"
   },
   {
    "duration": 664,
    "start_time": "2021-11-01T20:03:21.586Z"
   },
   {
    "duration": 656,
    "start_time": "2021-11-01T20:03:21.595Z"
   },
   {
    "duration": 647,
    "start_time": "2021-11-01T20:03:21.605Z"
   },
   {
    "duration": 641,
    "start_time": "2021-11-01T20:03:21.612Z"
   },
   {
    "duration": 636,
    "start_time": "2021-11-01T20:03:21.618Z"
   },
   {
    "duration": 631,
    "start_time": "2021-11-01T20:03:21.624Z"
   },
   {
    "duration": 624,
    "start_time": "2021-11-01T20:03:21.632Z"
   },
   {
    "duration": 619,
    "start_time": "2021-11-01T20:03:21.638Z"
   },
   {
    "duration": 615,
    "start_time": "2021-11-01T20:03:21.644Z"
   },
   {
    "duration": 600,
    "start_time": "2021-11-01T20:03:21.660Z"
   },
   {
    "duration": 597,
    "start_time": "2021-11-01T20:03:21.665Z"
   },
   {
    "duration": 594,
    "start_time": "2021-11-01T20:03:21.669Z"
   },
   {
    "duration": 592,
    "start_time": "2021-11-01T20:03:21.673Z"
   },
   {
    "duration": 589,
    "start_time": "2021-11-01T20:03:21.677Z"
   },
   {
    "duration": 585,
    "start_time": "2021-11-01T20:03:21.682Z"
   },
   {
    "duration": 583,
    "start_time": "2021-11-01T20:03:21.686Z"
   },
   {
    "duration": 579,
    "start_time": "2021-11-01T20:03:21.691Z"
   },
   {
    "duration": 578,
    "start_time": "2021-11-01T20:03:21.694Z"
   },
   {
    "duration": 575,
    "start_time": "2021-11-01T20:03:21.698Z"
   },
   {
    "duration": 572,
    "start_time": "2021-11-01T20:03:21.702Z"
   },
   {
    "duration": 571,
    "start_time": "2021-11-01T20:03:21.705Z"
   },
   {
    "duration": 566,
    "start_time": "2021-11-01T20:03:21.711Z"
   },
   {
    "duration": 561,
    "start_time": "2021-11-01T20:03:21.717Z"
   },
   {
    "duration": 559,
    "start_time": "2021-11-01T20:03:21.721Z"
   },
   {
    "duration": 555,
    "start_time": "2021-11-01T20:03:21.726Z"
   },
   {
    "duration": 551,
    "start_time": "2021-11-01T20:03:21.732Z"
   },
   {
    "duration": 555,
    "start_time": "2021-11-01T20:03:21.735Z"
   },
   {
    "duration": 553,
    "start_time": "2021-11-01T20:03:21.739Z"
   },
   {
    "duration": 550,
    "start_time": "2021-11-01T20:03:21.743Z"
   },
   {
    "duration": 546,
    "start_time": "2021-11-01T20:03:21.748Z"
   },
   {
    "duration": 544,
    "start_time": "2021-11-01T20:03:21.752Z"
   },
   {
    "duration": 542,
    "start_time": "2021-11-01T20:03:21.755Z"
   },
   {
    "duration": 529,
    "start_time": "2021-11-01T20:03:21.770Z"
   },
   {
    "duration": 525,
    "start_time": "2021-11-01T20:03:21.775Z"
   },
   {
    "duration": 520,
    "start_time": "2021-11-01T20:03:21.781Z"
   },
   {
    "duration": 518,
    "start_time": "2021-11-01T20:03:21.785Z"
   },
   {
    "duration": 516,
    "start_time": "2021-11-01T20:03:21.788Z"
   },
   {
    "duration": 513,
    "start_time": "2021-11-01T20:03:21.793Z"
   },
   {
    "duration": 510,
    "start_time": "2021-11-01T20:03:21.797Z"
   },
   {
    "duration": 507,
    "start_time": "2021-11-01T20:03:21.801Z"
   },
   {
    "duration": 506,
    "start_time": "2021-11-01T20:03:21.804Z"
   },
   {
    "duration": 502,
    "start_time": "2021-11-01T20:03:21.809Z"
   },
   {
    "duration": 497,
    "start_time": "2021-11-01T20:03:21.816Z"
   },
   {
    "duration": 492,
    "start_time": "2021-11-01T20:03:21.822Z"
   },
   {
    "duration": 489,
    "start_time": "2021-11-01T20:03:21.826Z"
   },
   {
    "duration": 486,
    "start_time": "2021-11-01T20:03:21.831Z"
   },
   {
    "duration": 484,
    "start_time": "2021-11-01T20:03:21.834Z"
   },
   {
    "duration": 482,
    "start_time": "2021-11-01T20:03:21.838Z"
   },
   {
    "duration": 480,
    "start_time": "2021-11-01T20:03:21.841Z"
   },
   {
    "duration": 477,
    "start_time": "2021-11-01T20:03:21.845Z"
   },
   {
    "duration": 470,
    "start_time": "2021-11-01T20:03:21.854Z"
   },
   {
    "duration": 467,
    "start_time": "2021-11-01T20:03:21.858Z"
   },
   {
    "duration": 462,
    "start_time": "2021-11-01T20:03:21.864Z"
   },
   {
    "duration": 983,
    "start_time": "2021-11-01T20:04:52.191Z"
   },
   {
    "duration": 35,
    "start_time": "2021-11-01T20:04:53.176Z"
   },
   {
    "duration": 3,
    "start_time": "2021-11-01T20:04:53.215Z"
   },
   {
    "duration": 19,
    "start_time": "2021-11-01T20:04:53.219Z"
   },
   {
    "duration": 9,
    "start_time": "2021-11-01T20:04:53.239Z"
   },
   {
    "duration": 51,
    "start_time": "2021-11-01T20:04:53.249Z"
   },
   {
    "duration": 4,
    "start_time": "2021-11-01T20:04:53.302Z"
   },
   {
    "duration": 2742,
    "start_time": "2021-11-01T20:04:53.307Z"
   },
   {
    "duration": 6,
    "start_time": "2021-11-01T20:04:56.051Z"
   },
   {
    "duration": 5,
    "start_time": "2021-11-01T20:04:56.058Z"
   },
   {
    "duration": 6,
    "start_time": "2021-11-01T20:04:56.064Z"
   },
   {
    "duration": 19,
    "start_time": "2021-11-01T20:04:56.072Z"
   },
   {
    "duration": 8,
    "start_time": "2021-11-01T20:04:56.093Z"
   },
   {
    "duration": 8,
    "start_time": "2021-11-01T20:04:56.102Z"
   },
   {
    "duration": 7,
    "start_time": "2021-11-01T20:04:56.111Z"
   },
   {
    "duration": 7,
    "start_time": "2021-11-01T20:04:56.120Z"
   },
   {
    "duration": 8,
    "start_time": "2021-11-01T20:04:56.129Z"
   },
   {
    "duration": 798,
    "start_time": "2021-11-01T20:04:56.139Z"
   },
   {
    "duration": 418,
    "start_time": "2021-11-01T20:04:56.939Z"
   },
   {
    "duration": 406,
    "start_time": "2021-11-01T20:04:57.359Z"
   },
   {
    "duration": 426,
    "start_time": "2021-11-01T20:04:57.766Z"
   },
   {
    "duration": 5,
    "start_time": "2021-11-01T20:04:58.195Z"
   },
   {
    "duration": 6,
    "start_time": "2021-11-01T20:04:58.202Z"
   },
   {
    "duration": 11,
    "start_time": "2021-11-01T20:04:58.209Z"
   },
   {
    "duration": 306,
    "start_time": "2021-11-01T20:04:58.221Z"
   },
   {
    "duration": 16,
    "start_time": "2021-11-01T20:04:58.529Z"
   },
   {
    "duration": 516,
    "start_time": "2021-11-01T20:04:58.546Z"
   },
   {
    "duration": 1304,
    "start_time": "2021-11-01T20:04:59.063Z"
   },
   {
    "duration": 266,
    "start_time": "2021-11-01T20:05:00.369Z"
   },
   {
    "duration": 694,
    "start_time": "2021-11-01T20:04:59.943Z"
   },
   {
    "duration": 685,
    "start_time": "2021-11-01T20:04:59.952Z"
   },
   {
    "duration": 682,
    "start_time": "2021-11-01T20:04:59.956Z"
   },
   {
    "duration": 679,
    "start_time": "2021-11-01T20:04:59.960Z"
   },
   {
    "duration": 675,
    "start_time": "2021-11-01T20:04:59.965Z"
   },
   {
    "duration": 673,
    "start_time": "2021-11-01T20:04:59.968Z"
   },
   {
    "duration": 670,
    "start_time": "2021-11-01T20:04:59.972Z"
   },
   {
    "duration": 667,
    "start_time": "2021-11-01T20:04:59.976Z"
   },
   {
    "duration": 664,
    "start_time": "2021-11-01T20:04:59.980Z"
   },
   {
    "duration": 661,
    "start_time": "2021-11-01T20:04:59.984Z"
   },
   {
    "duration": 658,
    "start_time": "2021-11-01T20:04:59.987Z"
   },
   {
    "duration": 654,
    "start_time": "2021-11-01T20:04:59.992Z"
   },
   {
    "duration": 649,
    "start_time": "2021-11-01T20:04:59.998Z"
   },
   {
    "duration": 646,
    "start_time": "2021-11-01T20:05:00.002Z"
   },
   {
    "duration": 643,
    "start_time": "2021-11-01T20:05:00.006Z"
   },
   {
    "duration": 641,
    "start_time": "2021-11-01T20:05:00.009Z"
   },
   {
    "duration": 637,
    "start_time": "2021-11-01T20:05:00.014Z"
   },
   {
    "duration": 629,
    "start_time": "2021-11-01T20:05:00.023Z"
   },
   {
    "duration": 619,
    "start_time": "2021-11-01T20:05:00.033Z"
   },
   {
    "duration": 615,
    "start_time": "2021-11-01T20:05:00.038Z"
   },
   {
    "duration": 592,
    "start_time": "2021-11-01T20:05:00.063Z"
   },
   {
    "duration": 588,
    "start_time": "2021-11-01T20:05:00.067Z"
   },
   {
    "duration": 584,
    "start_time": "2021-11-01T20:05:00.072Z"
   },
   {
    "duration": 580,
    "start_time": "2021-11-01T20:05:00.077Z"
   },
   {
    "duration": 574,
    "start_time": "2021-11-01T20:05:00.084Z"
   },
   {
    "duration": 571,
    "start_time": "2021-11-01T20:05:00.087Z"
   },
   {
    "duration": 566,
    "start_time": "2021-11-01T20:05:00.093Z"
   },
   {
    "duration": 563,
    "start_time": "2021-11-01T20:05:00.097Z"
   },
   {
    "duration": 560,
    "start_time": "2021-11-01T20:05:00.101Z"
   },
   {
    "duration": 558,
    "start_time": "2021-11-01T20:05:00.104Z"
   },
   {
    "duration": 554,
    "start_time": "2021-11-01T20:05:00.108Z"
   },
   {
    "duration": 894,
    "start_time": "2021-11-01T20:08:07.084Z"
   },
   {
    "duration": 904,
    "start_time": "2021-11-01T20:08:14.926Z"
   },
   {
    "duration": 956,
    "start_time": "2021-11-01T20:08:22.705Z"
   },
   {
    "duration": 1067,
    "start_time": "2021-11-01T20:08:55.136Z"
   },
   {
    "duration": 1071,
    "start_time": "2021-11-01T20:09:01.003Z"
   },
   {
    "duration": 6523,
    "start_time": "2021-11-01T20:09:24.367Z"
   },
   {
    "duration": 3,
    "start_time": "2021-11-01T20:09:37.690Z"
   },
   {
    "duration": 1061,
    "start_time": "2021-11-01T20:09:37.695Z"
   },
   {
    "duration": 38,
    "start_time": "2021-11-01T20:09:38.758Z"
   },
   {
    "duration": 4,
    "start_time": "2021-11-01T20:09:38.797Z"
   },
   {
    "duration": 18,
    "start_time": "2021-11-01T20:09:38.802Z"
   },
   {
    "duration": 11,
    "start_time": "2021-11-01T20:09:38.822Z"
   },
   {
    "duration": 25,
    "start_time": "2021-11-01T20:09:38.835Z"
   },
   {
    "duration": 3,
    "start_time": "2021-11-01T20:09:38.861Z"
   },
   {
    "duration": 2442,
    "start_time": "2021-11-01T20:09:38.867Z"
   },
   {
    "duration": 5,
    "start_time": "2021-11-01T20:09:41.311Z"
   },
   {
    "duration": 5,
    "start_time": "2021-11-01T20:09:41.318Z"
   },
   {
    "duration": 5,
    "start_time": "2021-11-01T20:09:41.325Z"
   },
   {
    "duration": 6,
    "start_time": "2021-11-01T20:09:41.331Z"
   },
   {
    "duration": 6,
    "start_time": "2021-11-01T20:09:41.338Z"
   },
   {
    "duration": 6,
    "start_time": "2021-11-01T20:09:41.346Z"
   },
   {
    "duration": 5,
    "start_time": "2021-11-01T20:09:41.354Z"
   },
   {
    "duration": 33,
    "start_time": "2021-11-01T20:09:41.360Z"
   },
   {
    "duration": 8,
    "start_time": "2021-11-01T20:09:41.395Z"
   },
   {
    "duration": 1201,
    "start_time": "2021-11-01T20:09:41.404Z"
   },
   {
    "duration": 373,
    "start_time": "2021-11-01T20:09:42.606Z"
   },
   {
    "duration": 384,
    "start_time": "2021-11-01T20:09:42.981Z"
   },
   {
    "duration": 454,
    "start_time": "2021-11-01T20:09:43.366Z"
   },
   {
    "duration": 5,
    "start_time": "2021-11-01T20:09:43.821Z"
   },
   {
    "duration": 5,
    "start_time": "2021-11-01T20:09:43.829Z"
   },
   {
    "duration": 5,
    "start_time": "2021-11-01T20:09:43.836Z"
   },
   {
    "duration": 340,
    "start_time": "2021-11-01T20:09:43.843Z"
   },
   {
    "duration": 21,
    "start_time": "2021-11-01T20:09:44.185Z"
   },
   {
    "duration": 458,
    "start_time": "2021-11-01T20:09:44.208Z"
   },
   {
    "duration": 1254,
    "start_time": "2021-11-01T20:09:44.668Z"
   },
   {
    "duration": 596,
    "start_time": "2021-11-01T20:09:45.924Z"
   },
   {
    "duration": 694,
    "start_time": "2021-11-01T20:09:46.522Z"
   },
   {
    "duration": 12,
    "start_time": "2021-11-01T20:09:47.219Z"
   },
   {
    "duration": 22,
    "start_time": "2021-11-01T20:09:47.233Z"
   },
   {
    "duration": 14,
    "start_time": "2021-11-01T20:09:47.256Z"
   },
   {
    "duration": 31,
    "start_time": "2021-11-01T20:09:47.271Z"
   },
   {
    "duration": 18,
    "start_time": "2021-11-01T20:09:47.304Z"
   },
   {
    "duration": 11,
    "start_time": "2021-11-01T20:09:47.324Z"
   },
   {
    "duration": 103,
    "start_time": "2021-11-01T20:09:47.337Z"
   },
   {
    "duration": 19,
    "start_time": "2021-11-01T20:09:47.442Z"
   },
   {
    "duration": 14,
    "start_time": "2021-11-01T20:09:47.463Z"
   },
   {
    "duration": 520,
    "start_time": "2021-11-01T20:09:47.478Z"
   },
   {
    "duration": 4,
    "start_time": "2021-11-01T20:09:48.000Z"
   },
   {
    "duration": 1145,
    "start_time": "2021-11-01T20:09:48.006Z"
   },
   {
    "duration": 865,
    "start_time": "2021-11-01T20:09:49.153Z"
   },
   {
    "duration": 333,
    "start_time": "2021-11-01T20:09:50.019Z"
   },
   {
    "duration": 12,
    "start_time": "2021-11-01T20:09:50.353Z"
   },
   {
    "duration": 4,
    "start_time": "2021-11-01T20:09:50.367Z"
   },
   {
    "duration": 22,
    "start_time": "2021-11-01T20:09:50.373Z"
   },
   {
    "duration": 349,
    "start_time": "2021-11-01T20:09:50.397Z"
   },
   {
    "duration": 4,
    "start_time": "2021-11-01T20:09:50.748Z"
   },
   {
    "duration": 448,
    "start_time": "2021-11-01T20:09:50.753Z"
   },
   {
    "duration": 4,
    "start_time": "2021-11-01T20:09:51.202Z"
   },
   {
    "duration": 253,
    "start_time": "2021-11-01T20:09:51.208Z"
   },
   {
    "duration": 246,
    "start_time": "2021-11-01T20:09:51.463Z"
   },
   {
    "duration": 39,
    "start_time": "2021-11-01T20:09:51.711Z"
   },
   {
    "duration": 723,
    "start_time": "2021-11-01T20:09:51.751Z"
   },
   {
    "duration": 15,
    "start_time": "2021-11-01T20:09:52.476Z"
   },
   {
    "duration": 4,
    "start_time": "2021-11-01T20:09:52.493Z"
   },
   {
    "duration": 5,
    "start_time": "2021-11-01T20:09:52.499Z"
   },
   {
    "duration": 9,
    "start_time": "2021-11-01T20:09:52.506Z"
   },
   {
    "duration": 6,
    "start_time": "2021-11-01T20:09:52.517Z"
   },
   {
    "duration": 8,
    "start_time": "2021-11-01T20:16:04.972Z"
   },
   {
    "duration": 4,
    "start_time": "2021-11-01T20:22:49.296Z"
   },
   {
    "duration": 4,
    "start_time": "2021-11-03T09:22:07.174Z"
   },
   {
    "duration": 1463,
    "start_time": "2021-11-03T09:22:07.182Z"
   },
   {
    "duration": 276,
    "start_time": "2021-11-03T09:22:08.647Z"
   },
   {
    "duration": 5,
    "start_time": "2021-11-03T09:22:08.927Z"
   },
   {
    "duration": 26,
    "start_time": "2021-11-03T09:22:08.935Z"
   },
   {
    "duration": 27,
    "start_time": "2021-11-03T09:22:08.963Z"
   },
   {
    "duration": 44,
    "start_time": "2021-11-03T09:22:08.994Z"
   },
   {
    "duration": 7,
    "start_time": "2021-11-03T09:22:09.040Z"
   },
   {
    "duration": 4574,
    "start_time": "2021-11-03T09:22:09.049Z"
   },
   {
    "duration": 10,
    "start_time": "2021-11-03T09:22:13.625Z"
   },
   {
    "duration": 7,
    "start_time": "2021-11-03T09:22:13.637Z"
   },
   {
    "duration": 7,
    "start_time": "2021-11-03T09:22:13.646Z"
   },
   {
    "duration": 37,
    "start_time": "2021-11-03T09:22:13.655Z"
   },
   {
    "duration": 9,
    "start_time": "2021-11-03T09:22:13.694Z"
   },
   {
    "duration": 8,
    "start_time": "2021-11-03T09:22:13.705Z"
   },
   {
    "duration": 8,
    "start_time": "2021-11-03T09:22:13.715Z"
   },
   {
    "duration": 8,
    "start_time": "2021-11-03T09:22:13.725Z"
   },
   {
    "duration": 14,
    "start_time": "2021-11-03T09:22:13.736Z"
   },
   {
    "duration": 9,
    "start_time": "2021-11-03T09:22:13.783Z"
   },
   {
    "duration": 13,
    "start_time": "2021-11-03T09:22:13.795Z"
   },
   {
    "duration": 1353,
    "start_time": "2021-11-03T09:22:13.810Z"
   },
   {
    "duration": 565,
    "start_time": "2021-11-03T09:22:15.166Z"
   },
   {
    "duration": 578,
    "start_time": "2021-11-03T09:22:15.734Z"
   },
   {
    "duration": 605,
    "start_time": "2021-11-03T09:22:16.314Z"
   },
   {
    "duration": 7,
    "start_time": "2021-11-03T09:22:16.922Z"
   },
   {
    "duration": 7,
    "start_time": "2021-11-03T09:22:16.931Z"
   },
   {
    "duration": 6,
    "start_time": "2021-11-03T09:22:16.940Z"
   },
   {
    "duration": 442,
    "start_time": "2021-11-03T09:22:16.981Z"
   },
   {
    "duration": 27,
    "start_time": "2021-11-03T09:22:17.425Z"
   },
   {
    "duration": 817,
    "start_time": "2021-11-03T09:22:17.455Z"
   },
   {
    "duration": 2169,
    "start_time": "2021-11-03T09:22:18.274Z"
   },
   {
    "duration": 504,
    "start_time": "2021-11-03T09:22:20.446Z"
   },
   {
    "duration": -169,
    "start_time": "2021-11-03T09:22:21.123Z"
   },
   {
    "duration": -174,
    "start_time": "2021-11-03T09:22:21.129Z"
   },
   {
    "duration": -176,
    "start_time": "2021-11-03T09:22:21.133Z"
   },
   {
    "duration": -179,
    "start_time": "2021-11-03T09:22:21.137Z"
   },
   {
    "duration": -182,
    "start_time": "2021-11-03T09:22:21.142Z"
   },
   {
    "duration": -185,
    "start_time": "2021-11-03T09:22:21.146Z"
   },
   {
    "duration": -189,
    "start_time": "2021-11-03T09:22:21.151Z"
   },
   {
    "duration": -191,
    "start_time": "2021-11-03T09:22:21.155Z"
   },
   {
    "duration": -194,
    "start_time": "2021-11-03T09:22:21.159Z"
   },
   {
    "duration": -195,
    "start_time": "2021-11-03T09:22:21.162Z"
   },
   {
    "duration": -198,
    "start_time": "2021-11-03T09:22:21.166Z"
   },
   {
    "duration": -199,
    "start_time": "2021-11-03T09:22:21.169Z"
   },
   {
    "duration": -202,
    "start_time": "2021-11-03T09:22:21.173Z"
   },
   {
    "duration": -204,
    "start_time": "2021-11-03T09:22:21.177Z"
   },
   {
    "duration": -206,
    "start_time": "2021-11-03T09:22:21.181Z"
   },
   {
    "duration": -207,
    "start_time": "2021-11-03T09:22:21.184Z"
   },
   {
    "duration": -210,
    "start_time": "2021-11-03T09:22:21.188Z"
   },
   {
    "duration": -212,
    "start_time": "2021-11-03T09:22:21.192Z"
   },
   {
    "duration": -215,
    "start_time": "2021-11-03T09:22:21.196Z"
   },
   {
    "duration": -225,
    "start_time": "2021-11-03T09:22:21.207Z"
   },
   {
    "duration": -228,
    "start_time": "2021-11-03T09:22:21.211Z"
   },
   {
    "duration": -230,
    "start_time": "2021-11-03T09:22:21.215Z"
   },
   {
    "duration": -232,
    "start_time": "2021-11-03T09:22:21.218Z"
   },
   {
    "duration": -235,
    "start_time": "2021-11-03T09:22:21.222Z"
   },
   {
    "duration": -239,
    "start_time": "2021-11-03T09:22:21.227Z"
   },
   {
    "duration": -240,
    "start_time": "2021-11-03T09:22:21.230Z"
   },
   {
    "duration": -243,
    "start_time": "2021-11-03T09:22:21.234Z"
   },
   {
    "duration": -246,
    "start_time": "2021-11-03T09:22:21.238Z"
   },
   {
    "duration": -249,
    "start_time": "2021-11-03T09:22:21.242Z"
   },
   {
    "duration": -251,
    "start_time": "2021-11-03T09:22:21.245Z"
   },
   {
    "duration": -253,
    "start_time": "2021-11-03T09:22:21.249Z"
   },
   {
    "duration": -256,
    "start_time": "2021-11-03T09:22:21.253Z"
   },
   {
    "duration": -259,
    "start_time": "2021-11-03T09:22:21.257Z"
   },
   {
    "duration": -261,
    "start_time": "2021-11-03T09:22:21.260Z"
   },
   {
    "duration": -263,
    "start_time": "2021-11-03T09:22:21.264Z"
   },
   {
    "duration": -265,
    "start_time": "2021-11-03T09:22:21.267Z"
   },
   {
    "duration": 12497,
    "start_time": "2021-11-03T09:22:56.264Z"
   },
   {
    "duration": 4,
    "start_time": "2021-11-03T09:23:16.567Z"
   },
   {
    "duration": 1578,
    "start_time": "2021-11-03T09:23:16.574Z"
   },
   {
    "duration": 174,
    "start_time": "2021-11-03T09:23:18.155Z"
   },
   {
    "duration": 5,
    "start_time": "2021-11-03T09:23:18.334Z"
   },
   {
    "duration": 28,
    "start_time": "2021-11-03T09:23:18.342Z"
   },
   {
    "duration": 26,
    "start_time": "2021-11-03T09:23:18.373Z"
   },
   {
    "duration": 39,
    "start_time": "2021-11-03T09:23:18.403Z"
   },
   {
    "duration": 6,
    "start_time": "2021-11-03T09:23:18.445Z"
   },
   {
    "duration": 4336,
    "start_time": "2021-11-03T09:23:18.482Z"
   },
   {
    "duration": 10,
    "start_time": "2021-11-03T09:23:22.820Z"
   },
   {
    "duration": 6,
    "start_time": "2021-11-03T09:23:22.833Z"
   },
   {
    "duration": 9,
    "start_time": "2021-11-03T09:23:22.842Z"
   },
   {
    "duration": 16,
    "start_time": "2021-11-03T09:23:22.883Z"
   },
   {
    "duration": 10,
    "start_time": "2021-11-03T09:23:22.902Z"
   },
   {
    "duration": 7,
    "start_time": "2021-11-03T09:23:22.915Z"
   },
   {
    "duration": 10,
    "start_time": "2021-11-03T09:23:22.925Z"
   },
   {
    "duration": 45,
    "start_time": "2021-11-03T09:23:22.937Z"
   },
   {
    "duration": 6,
    "start_time": "2021-11-03T09:23:22.985Z"
   },
   {
    "duration": 11,
    "start_time": "2021-11-03T09:23:22.993Z"
   },
   {
    "duration": 10,
    "start_time": "2021-11-03T09:23:23.007Z"
   },
   {
    "duration": 2239,
    "start_time": "2021-11-03T09:23:23.019Z"
   },
   {
    "duration": 547,
    "start_time": "2021-11-03T09:23:25.263Z"
   },
   {
    "duration": 577,
    "start_time": "2021-11-03T09:23:25.814Z"
   },
   {
    "duration": 641,
    "start_time": "2021-11-03T09:23:26.394Z"
   },
   {
    "duration": 7,
    "start_time": "2021-11-03T09:23:27.037Z"
   },
   {
    "duration": 8,
    "start_time": "2021-11-03T09:23:27.046Z"
   },
   {
    "duration": 28,
    "start_time": "2021-11-03T09:23:27.056Z"
   },
   {
    "duration": 417,
    "start_time": "2021-11-03T09:23:27.086Z"
   },
   {
    "duration": 24,
    "start_time": "2021-11-03T09:23:27.505Z"
   },
   {
    "duration": 876,
    "start_time": "2021-11-03T09:23:27.531Z"
   },
   {
    "duration": 2086,
    "start_time": "2021-11-03T09:23:28.410Z"
   },
   {
    "duration": 981,
    "start_time": "2021-11-03T09:23:30.499Z"
   },
   {
    "duration": 1162,
    "start_time": "2021-11-03T09:23:31.484Z"
   },
   {
    "duration": 21,
    "start_time": "2021-11-03T09:23:32.648Z"
   },
   {
    "duration": 38,
    "start_time": "2021-11-03T09:23:32.683Z"
   },
   {
    "duration": 24,
    "start_time": "2021-11-03T09:23:32.724Z"
   },
   {
    "duration": 50,
    "start_time": "2021-11-03T09:23:32.751Z"
   },
   {
    "duration": 30,
    "start_time": "2021-11-03T09:23:32.804Z"
   },
   {
    "duration": 59,
    "start_time": "2021-11-03T09:23:32.837Z"
   },
   {
    "duration": 138,
    "start_time": "2021-11-03T09:23:32.899Z"
   },
   {
    "duration": 47,
    "start_time": "2021-11-03T09:23:33.040Z"
   },
   {
    "duration": 4,
    "start_time": "2021-11-03T09:23:33.090Z"
   },
   {
    "duration": 20,
    "start_time": "2021-11-03T09:23:33.097Z"
   },
   {
    "duration": 769,
    "start_time": "2021-11-03T09:23:33.119Z"
   },
   {
    "duration": 8,
    "start_time": "2021-11-03T09:23:33.891Z"
   },
   {
    "duration": 1763,
    "start_time": "2021-11-03T09:23:33.901Z"
   },
   {
    "duration": 533,
    "start_time": "2021-11-03T09:23:35.667Z"
   },
   {
    "duration": -157,
    "start_time": "2021-11-03T09:23:36.359Z"
   },
   {
    "duration": -162,
    "start_time": "2021-11-03T09:23:36.365Z"
   },
   {
    "duration": -167,
    "start_time": "2021-11-03T09:23:36.372Z"
   },
   {
    "duration": -171,
    "start_time": "2021-11-03T09:23:36.377Z"
   },
   {
    "duration": -173,
    "start_time": "2021-11-03T09:23:36.381Z"
   },
   {
    "duration": -175,
    "start_time": "2021-11-03T09:23:36.385Z"
   },
   {
    "duration": -176,
    "start_time": "2021-11-03T09:23:36.388Z"
   },
   {
    "duration": -186,
    "start_time": "2021-11-03T09:23:36.399Z"
   },
   {
    "duration": -189,
    "start_time": "2021-11-03T09:23:36.403Z"
   },
   {
    "duration": -193,
    "start_time": "2021-11-03T09:23:36.409Z"
   },
   {
    "duration": -195,
    "start_time": "2021-11-03T09:23:36.413Z"
   },
   {
    "duration": -198,
    "start_time": "2021-11-03T09:23:36.417Z"
   },
   {
    "duration": -200,
    "start_time": "2021-11-03T09:23:36.421Z"
   },
   {
    "duration": -202,
    "start_time": "2021-11-03T09:23:36.425Z"
   },
   {
    "duration": -207,
    "start_time": "2021-11-03T09:23:36.431Z"
   },
   {
    "duration": -210,
    "start_time": "2021-11-03T09:23:36.436Z"
   },
   {
    "duration": -219,
    "start_time": "2021-11-03T09:23:36.446Z"
   },
   {
    "duration": -221,
    "start_time": "2021-11-03T09:23:36.450Z"
   },
   {
    "duration": -223,
    "start_time": "2021-11-03T09:23:36.453Z"
   },
   {
    "duration": -227,
    "start_time": "2021-11-03T09:23:36.459Z"
   },
   {
    "duration": -230,
    "start_time": "2021-11-03T09:23:36.463Z"
   },
   {
    "duration": 936,
    "start_time": "2021-11-03T09:32:37.513Z"
   },
   {
    "duration": 510,
    "start_time": "2021-11-03T09:54:13.252Z"
   },
   {
    "duration": 540,
    "start_time": "2021-11-03T09:54:13.765Z"
   },
   {
    "duration": 16,
    "start_time": "2021-11-03T09:54:14.307Z"
   },
   {
    "duration": 11,
    "start_time": "2021-11-03T09:54:14.326Z"
   },
   {
    "duration": 19,
    "start_time": "2021-11-03T09:54:14.340Z"
   },
   {
    "duration": 617,
    "start_time": "2021-11-03T09:54:14.361Z"
   },
   {
    "duration": 5,
    "start_time": "2021-11-03T09:54:14.981Z"
   },
   {
    "duration": 7,
    "start_time": "2021-11-03T09:54:14.989Z"
   },
   {
    "duration": 563,
    "start_time": "2021-11-03T09:54:14.998Z"
   },
   {
    "duration": 5,
    "start_time": "2021-11-03T09:54:15.564Z"
   },
   {
    "duration": 6,
    "start_time": "2021-11-03T09:54:15.581Z"
   },
   {
    "duration": 406,
    "start_time": "2021-11-03T09:54:15.589Z"
   },
   {
    "duration": 380,
    "start_time": "2021-11-03T09:54:15.997Z"
   },
   {
    "duration": 504,
    "start_time": "2021-11-03T09:54:16.381Z"
   },
   {
    "duration": 63,
    "start_time": "2021-11-03T09:54:16.887Z"
   },
   {
    "duration": 1247,
    "start_time": "2021-11-03T09:54:16.953Z"
   },
   {
    "duration": 13,
    "start_time": "2021-11-03T09:54:18.203Z"
   },
   {
    "duration": 10,
    "start_time": "2021-11-03T09:54:18.218Z"
   },
   {
    "duration": 8,
    "start_time": "2021-11-03T09:54:18.230Z"
   },
   {
    "duration": 48,
    "start_time": "2021-11-03T09:54:18.241Z"
   },
   {
    "duration": 6,
    "start_time": "2021-11-03T09:54:18.292Z"
   }
  ],
  "kernelspec": {
   "display_name": "Python 3",
   "language": "python",
   "name": "python3"
  },
  "language_info": {
   "codemirror_mode": {
    "name": "ipython",
    "version": 3
   },
   "file_extension": ".py",
   "mimetype": "text/x-python",
   "name": "python",
   "nbconvert_exporter": "python",
   "pygments_lexer": "ipython3",
   "version": "3.7.6"
  },
  "toc": {
   "base_numbering": 1,
   "nav_menu": {},
   "number_sections": true,
   "sideBar": true,
   "skip_h1_title": true,
   "title_cell": "Table of Contents",
   "title_sidebar": "Contents",
   "toc_cell": false,
   "toc_position": {},
   "toc_section_display": true,
   "toc_window_display": false
  }
 },
 "nbformat": 4,
 "nbformat_minor": 4
}
